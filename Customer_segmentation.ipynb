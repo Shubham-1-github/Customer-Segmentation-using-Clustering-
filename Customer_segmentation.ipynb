{
 "cells": [
  {
   "cell_type": "code",
   "execution_count": 1,
   "id": "e3472f39-6db0-4d0f-8b67-92a64fc886de",
   "metadata": {},
   "outputs": [],
   "source": [
    "import numpy as np # linear algebra\n",
    "import pandas as pd # data processing, CSV file I/O (e.g. pd.read_csv)"
   ]
  },
  {
   "cell_type": "code",
   "execution_count": 3,
   "id": "eb1afad3-2a01-4206-bf00-43a3a8ccec6e",
   "metadata": {},
   "outputs": [],
   "source": [
    "import os\n",
    "for dirname, _, filenames in os.walk('/kaggle/input'):\n",
    "    for filename in filenames:\n",
    "        print(os.path.join(dirname, filename))\n"
   ]
  },
  {
   "cell_type": "code",
   "execution_count": null,
   "id": "42888beb-41dd-4e5c-94d7-064c626b0196",
   "metadata": {},
   "outputs": [],
   "source": [
    "import numpy as np\n",
    "import pandas as pd\n",
    "import datetime\n",
    "import matplotlib\n",
    "import matplotlib.pyplot as plt\n",
    "from matplotlib import colors\n",
    "import seaborn as sns\n",
    "from sklearn.preprocessing import LabelEncoder\n",
    "from sklearn.preprocessing import StandardScaler\n",
    "from sklearn.decomposition import PCA\n",
    "from yellowbrick.cluster import KElbowVisualizer\n",
    "from sklearn.cluster import KMeans\n",
    "import matplotlib.pyplot as plt, numpy as np\n",
    "from mpl_toolkits.mplot3d import Axes3D\n",
    "from sklearn.cluster import AgglomerativeClustering\n",
    "from matplotlib.colors import ListedColormap\n",
    "from sklearn import metrics\n",
    "import warnings\n",
    "import sys\n",
    "if not sys.warnoptions:\n",
    "    warnings.simplefilter(\"ignore\")\n",
    "np.random.seed(42)"
   ]
  },
  {
   "cell_type": "code",
   "execution_count": null,
   "id": "94678f34-f5c5-4254-b001-5406df20b4c7",
   "metadata": {},
   "outputs": [],
   "source": [
    "data = pd.read_csv(\"../input/customer-personality-analysis/marketing_campaign.csv\", sep=\"\\t\")\n",
    "print(\"Number of datapoints:\", len(data))\n",
    "data.head()"
   ]
  },
  {
   "cell_type": "code",
   "execution_count": null,
   "id": "ef845662-8ce1-48d8-b28e-b27ce02c611c",
   "metadata": {},
   "outputs": [],
   "source": [
    "data.info()"
   ]
  },
  {
   "cell_type": "code",
   "execution_count": null,
   "id": "cd5ba446-f99e-481f-ab3f-b5553579763b",
   "metadata": {},
   "outputs": [],
   "source": [
    "data = data.dropna()\n",
    "print(\"The total number of data-points after removing the rows with missing values are:\", len(data))"
   ]
  },
  {
   "cell_type": "code",
   "execution_count": null,
   "id": "dad5117a-ea94-499b-a13a-c3b0299c7aa8",
   "metadata": {},
   "outputs": [],
   "source": [
    "data[\"Dt_Customer\"] = pd.to_datetime(data[\"Dt_Customer\"])\n",
    "dates = []\n",
    "for i in data[\"Dt_Customer\"]:\n",
    "    i = i.date()\n",
    "    dates.append(i)  \n",
    "#Dates of the newest and oldest recorded customer\n",
    "print(\"The newest customer's enrolment date in therecords:\",max(dates))\n",
    "print(\"The oldest customer's enrolment date in the records:\",min(dates))"
   ]
  },
  {
   "cell_type": "code",
   "execution_count": null,
   "id": "6af34c56-6997-4c2f-b22d-b2537b681681",
   "metadata": {},
   "outputs": [],
   "source": [
    "days = []\n",
    "d1 = max(dates) #taking it to be the newest customer\n",
    "for i in dates:\n",
    "    delta = d1 - i\n",
    "    days.append(delta)\n",
    "data[\"Customer_For\"] = days\n",
    "data[\"Customer_For\"] = pd.to_numeric(data[\"Customer_For\"], errors=\"coerce\")"
   ]
  },
  {
   "cell_type": "code",
   "execution_count": null,
   "id": "83e56797-42ca-44d6-89ac-7cadbd5057f6",
   "metadata": {},
   "outputs": [],
   "source": [
    "print(\"Total categories in the feature Marital_Status:\\n\", data[\"Marital_Status\"].value_counts(), \"\\n\")\n",
    "print(\"Total categories in the feature Education:\\n\", data[\"Education\"].value_counts())"
   ]
  },
  {
   "cell_type": "code",
   "execution_count": null,
   "id": "3b4bd88a-be9f-4035-9e9c-06dbd3b567a7",
   "metadata": {},
   "outputs": [],
   "source": [
    "#Feature Engineering\n",
    "#Age of customer today \n",
    "data[\"Age\"] = 2021-data[\"Year_Birth\"]\n",
    "\n",
    "#Total spendings on various items\n",
    "data[\"Spent\"] = data[\"MntWines\"]+ data[\"MntFruits\"]+ data[\"MntMeatProducts\"]+ data[\"MntFishProducts\"]+ data[\"MntSweetProducts\"]+ data[\"MntGoldProds\"]\n",
    "\n",
    "#Deriving living situation by marital status\"Alone\"\n",
    "data[\"Living_With\"]=data[\"Marital_Status\"].replace({\"Married\":\"Partner\", \"Together\":\"Partner\", \"Absurd\":\"Alone\", \"Widow\":\"Alone\", \"YOLO\":\"Alone\", \"Divorced\":\"Alone\", \"Single\":\"Alone\",})\n",
    "\n",
    "#Feature indicating total children living in the household\n",
    "data[\"Children\"]=data[\"Kidhome\"]+data[\"Teenhome\"]\n",
    "\n",
    "#Feature for total members in the householde\n",
    "data[\"Family_Size\"] = data[\"Living_With\"].replace({\"Alone\": 1, \"Partner\":2})+ data[\"Children\"]\n",
    "\n",
    "#Feature pertaining parenthood\n",
    "data[\"Is_Parent\"] = np.where(data.Children> 0, 1, 0)\n",
    "\n",
    "#Segmenting education levels in three groups\n",
    "data[\"Education\"]=data[\"Education\"].replace({\"Basic\":\"Undergraduate\",\"2n Cycle\":\"Undergraduate\", \"Graduation\":\"Graduate\", \"Master\":\"Postgraduate\", \"PhD\":\"Postgraduate\"})\n",
    "\n",
    "#For clarity\n",
    "data=data.rename(columns={\"MntWines\": \"Wines\",\"MntFruits\":\"Fruits\",\"MntMeatProducts\":\"Meat\",\"MntFishProducts\":\"Fish\",\"MntSweetProducts\":\"Sweets\",\"MntGoldProds\":\"Gold\"})\n",
    "\n",
    "#Dropping some of the redundant features\n",
    "to_drop = [\"Marital_Status\", \"Dt_Customer\", \"Z_CostContact\", \"Z_Revenue\", \"Year_Birth\", \"ID\"]\n",
    "data = data.drop(to_drop, axis=1)"
   ]
  },
  {
   "cell_type": "code",
   "execution_count": null,
   "id": "bc7d0876-232b-42e7-b8c0-c6c86c2c8645",
   "metadata": {},
   "outputs": [],
   "source": [
    "data.describe()"
   ]
  },
  {
   "cell_type": "code",
   "execution_count": null,
   "id": "4b3d9a61-1604-4a10-b152-fdcd25b95d0e",
   "metadata": {},
   "outputs": [],
   "source": [
    "#To plot some selected features \n",
    "#Setting up colors prefrences\n",
    "sns.set(rc={\"axes.facecolor\":\"#FFF9ED\",\"figure.facecolor\":\"#FFF9ED\"})\n",
    "pallet = [\"#682F2F\", \"#9E726F\", \"#D6B2B1\", \"#B9C0C9\", \"#9F8A78\", \"#F3AB60\"]\n",
    "cmap = colors.ListedColormap([\"#682F2F\", \"#9E726F\", \"#D6B2B1\", \"#B9C0C9\", \"#9F8A78\", \"#F3AB60\"])\n",
    "#Plotting following features\n",
    "To_Plot = [ \"Income\", \"Recency\", \"Customer_For\", \"Age\", \"Spent\", \"Is_Parent\"]\n",
    "print(\"Reletive Plot Of Some Selected Features: A Data Subset\")\n",
    "plt.figure()\n",
    "sns.pairplot(data[To_Plot], hue= \"Is_Parent\",palette= ([\"#682F2F\",\"#F3AB60\"]))\n",
    "#Taking hue \n",
    "plt.show()"
   ]
  },
  {
   "cell_type": "code",
   "execution_count": null,
   "id": "26e2c12b-8e67-482a-8acc-59b2e1ff221e",
   "metadata": {},
   "outputs": [],
   "source": [
    "#Dropping the outliers by setting a cap on Age and income. \n",
    "data = data[(data[\"Age\"]<90)]\n",
    "data = data[(data[\"Income\"]<600000)]\n",
    "print(\"The total number of data-points after removing the outliers are:\", len(data))"
   ]
  },
  {
   "cell_type": "code",
   "execution_count": null,
   "id": "8582698e-22a1-4958-9097-dccbf99349c5",
   "metadata": {},
   "outputs": [],
   "source": [
    "#correlation matrix\n",
    "corrmat= data.corr()\n",
    "plt.figure(figsize=(20,20))  \n",
    "sns.heatmap(corrmat,annot=True, cmap=cmap, center=0)"
   ]
  },
  {
   "cell_type": "code",
   "execution_count": null,
   "id": "4d06dcda-2f92-4dfb-8aad-ec7ca72356b6",
   "metadata": {},
   "outputs": [],
   "source": [
    "#Get list of categorical variables\n",
    "s = (data.dtypes == 'object')\n",
    "object_cols = list(s[s].index)\n",
    "\n",
    "print(\"Categorical variables in the dataset:\", object_cols)\n"
   ]
  },
  {
   "cell_type": "code",
   "execution_count": null,
   "id": "0a90f1d7-c538-4324-860b-46ab27fbd18b",
   "metadata": {},
   "outputs": [],
   "source": [
    "#Label Encoding the object dtypes.\n",
    "LE=LabelEncoder()\n",
    "for i in object_cols:\n",
    "    data[i]=data[[i]].apply(LE.fit_transform)\n",
    "    \n",
    "print(\"All features are now numerical\")"
   ]
  },
  {
   "cell_type": "code",
   "execution_count": null,
   "id": "5c59e463-8032-4051-bced-e268380a976a",
   "metadata": {},
   "outputs": [],
   "source": [
    "#Creating a copy of data\n",
    "ds = data.copy()\n",
    "# creating a subset of dataframe by dropping the features on deals accepted and promotions\n",
    "cols_del = ['AcceptedCmp3', 'AcceptedCmp4', 'AcceptedCmp5', 'AcceptedCmp1','AcceptedCmp2', 'Complain', 'Response']\n",
    "ds = ds.drop(cols_del, axis=1)\n",
    "#Scaling\n",
    "scaler = StandardScaler()\n",
    "scaler.fit(ds)\n",
    "scaled_ds = pd.DataFrame(scaler.transform(ds),columns= ds.columns )\n",
    "print(\"All features are now scaled\")\n"
   ]
  },
  {
   "cell_type": "code",
   "execution_count": null,
   "id": "c6815473-b7dc-49e8-bf49-408e576d4c32",
   "metadata": {},
   "outputs": [],
   "source": [
    "#Scaled data to be used for reducing the dimensionality\n",
    "print(\"Dataframe to be used for further modelling:\")\n",
    "scaled_ds.head()\n"
   ]
  },
  {
   "cell_type": "code",
   "execution_count": null,
   "id": "d35f1c5b-8955-4229-ab7e-bd8fb0dcfebb",
   "metadata": {},
   "outputs": [],
   "source": [
    "#Initiating PCA to reduce dimentions aka features to 3\n",
    "pca = PCA(n_components=3)\n",
    "pca.fit(scaled_ds)\n",
    "PCA_ds = pd.DataFrame(pca.transform(scaled_ds), columns=([\"col1\",\"col2\", \"col3\"]))\n",
    "PCA_ds.describe().T"
   ]
  },
  {
   "cell_type": "code",
   "execution_count": null,
   "id": "9eed524a-9d1d-45a3-968d-e2fdffc7a79d",
   "metadata": {},
   "outputs": [],
   "source": [
    "#A 3D Projection Of Data In The Reduced Dimension\n",
    "x =PCA_ds[\"col1\"]\n",
    "y =PCA_ds[\"col2\"]\n",
    "z =PCA_ds[\"col3\"]\n",
    "#To plot\n",
    "fig = plt.figure(figsize=(10,8))\n",
    "ax = fig.add_subplot(111, projection=\"3d\")\n",
    "ax.scatter(x,y,z, c=\"maroon\", marker=\"o\" )\n",
    "ax.set_title(\"A 3D Projection Of Data In The Reduced Dimension\")\n",
    "plt.show()"
   ]
  },
  {
   "cell_type": "code",
   "execution_count": null,
   "id": "29ae570a-7a09-4a43-ab51-1ffec7fb2230",
   "metadata": {},
   "outputs": [],
   "source": [
    "# Quick examination of elbow method to find numbers of clusters to make.\n",
    "print('Elbow Method to determine the number of clusters to be formed:')\n",
    "Elbow_M = KElbowVisualizer(KMeans(), k=10)\n",
    "Elbow_M.fit(PCA_ds)\n",
    "Elbow_M.show()"
   ]
  },
  {
   "cell_type": "code",
   "execution_count": null,
   "id": "9b1a9b5c-2b7e-47f2-8414-619c4b5ba124",
   "metadata": {},
   "outputs": [],
   "source": [
    "#Initiating the Agglomerative Clustering model \n",
    "AC = AgglomerativeClustering(n_clusters=4)\n",
    "# fit model and predict clusters\n",
    "yhat_AC = AC.fit_predict(PCA_ds)\n",
    "PCA_ds[\"Clusters\"] = yhat_AC\n",
    "#Adding the Clusters feature to the orignal dataframe.\n",
    "data[\"Clusters\"]= yhat_AC"
   ]
  },
  {
   "cell_type": "code",
   "execution_count": null,
   "id": "b599ab05-560a-4018-9023-2c48ca3d7409",
   "metadata": {},
   "outputs": [],
   "source": [
    "#Plotting the clusters\n",
    "fig = plt.figure(figsize=(10,8))\n",
    "ax = plt.subplot(111, projection='3d', label=\"bla\")\n",
    "ax.scatter(x, y, z, s=40, c=PCA_ds[\"Clusters\"], marker='o', cmap = cmap )\n",
    "ax.set_title(\"The Plot Of The Clusters\")\n",
    "plt.show()"
   ]
  },
  {
   "cell_type": "code",
   "execution_count": null,
   "id": "d7e48c97-1beb-4eac-9d19-a14ae3412a4e",
   "metadata": {},
   "outputs": [],
   "source": [
    "#Plotting countplot of clusters\n",
    "pal = [\"#682F2F\",\"#B9C0C9\", \"#9F8A78\",\"#F3AB60\"]\n",
    "pl = sns.countplot(x=data[\"Clusters\"], palette= pal)\n",
    "pl.set_title(\"Distribution Of The Clusters\")\n",
    "plt.show()"
   ]
  },
  {
   "cell_type": "code",
   "execution_count": null,
   "id": "64790ca8-ca04-4e45-b68c-c4d2b39d484a",
   "metadata": {},
   "outputs": [],
   "source": [
    "pl = sns.scatterplot(data = data,x=data[\"Spent\"], y=data[\"Income\"],hue=data[\"Clusters\"], palette= pal)\n",
    "pl.set_title(\"Cluster's Profile Based On Income And Spending\")\n",
    "plt.legend()\n",
    "plt.show()"
   ]
  },
  {
   "cell_type": "code",
   "execution_count": null,
   "id": "d17e6b53-f28d-4c20-bfc0-f077760f791d",
   "metadata": {},
   "outputs": [],
   "source": [
    "plt.figure()\n",
    "pl=sns.swarmplot(x=data[\"Clusters\"], y=data[\"Spent\"], color= \"#CBEDDD\", alpha=0.5 )\n",
    "pl=sns.boxenplot(x=data[\"Clusters\"], y=data[\"Spent\"], palette=pal)\n",
    "plt.show()"
   ]
  },
  {
   "cell_type": "code",
   "execution_count": null,
   "id": "6bd30715-021a-4711-baea-31df1392890f",
   "metadata": {},
   "outputs": [],
   "source": [
    "#Creating a feature to get a sum of accepted promotions \n",
    "data[\"Total_Promos\"] = data[\"AcceptedCmp1\"]+ data[\"AcceptedCmp2\"]+ data[\"AcceptedCmp3\"]+ data[\"AcceptedCmp4\"]+ data[\"AcceptedCmp5\"]\n",
    "#Plotting count of total campaign accepted.\n",
    "plt.figure()\n",
    "pl = sns.countplot(x=data[\"Total_Promos\"],hue=data[\"Clusters\"], palette= pal)\n",
    "pl.set_title(\"Count Of Promotion Accepted\")\n",
    "pl.set_xlabel(\"Number Of Total Accepted Promotions\")\n",
    "plt.show()"
   ]
  },
  {
   "cell_type": "code",
   "execution_count": null,
   "id": "3123ac85-34b8-46c4-b103-e431f26fb0b2",
   "metadata": {},
   "outputs": [],
   "source": [
    "#Plotting the number of deals purchased\n",
    "plt.figure()\n",
    "pl=sns.boxenplot(y=data[\"NumDealsPurchases\"],x=data[\"Clusters\"], palette= pal)\n",
    "pl.set_title(\"Number of Deals Purchased\")\n",
    "plt.show()"
   ]
  },
  {
   "cell_type": "code",
   "execution_count": null,
   "id": "1371ec40-64f9-4b6d-bac3-18935c698b01",
   "metadata": {},
   "outputs": [],
   "source": [
    "Personal = [ \"Kidhome\",\"Teenhome\",\"Customer_For\", \"Age\", \"Children\", \"Family_Size\", \"Is_Parent\", \"Education\",\"Living_With\"]\n",
    "\n",
    "for i in Personal:\n",
    "    plt.figure()\n",
    "    sns.jointplot(x=data[i], y=data[\"Spent\"], hue =data[\"Clusters\"], kind=\"kde\", palette=pal)\n",
    "    plt.show()"
   ]
  },
  {
   "cell_type": "code",
   "execution_count": null,
   "id": "16ab67d9-4c15-42bb-a310-35f7cf4bc7cf",
   "metadata": {},
   "outputs": [],
   "source": [
    "## In this project, I performed unsupervised clustering.I did use dimensionality reduction."
   ]
  },
  {
   "cell_type": "code",
   "execution_count": null,
   "id": "675a4bc3-44ca-49c4-9104-4c31933e5a20",
   "metadata": {},
   "outputs": [],
   "source": []
  },
  {
   "cell_type": "code",
   "execution_count": null,
   "id": "87fcf135-fd30-4edf-b383-36c8948678a0",
   "metadata": {},
   "outputs": [],
   "source": []
  },
  {
   "cell_type": "code",
   "execution_count": null,
   "id": "9dd0613d-7790-4b39-9adc-d19dc7ef9f15",
   "metadata": {},
   "outputs": [],
   "source": []
  },
  {
   "cell_type": "code",
   "execution_count": null,
   "id": "8e9c3650-eb02-475e-b177-6284a3cea29f",
   "metadata": {},
   "outputs": [],
   "source": []
  }
 ],
 "metadata": {
  "kernelspec": {
   "display_name": "Python 3 (ipykernel)",
   "language": "python",
   "name": "python3"
  },
  "language_info": {
   "codemirror_mode": {
    "name": "ipython",
    "version": 3
   },
   "file_extension": ".py",
   "mimetype": "text/x-python",
   "name": "python",
   "nbconvert_exporter": "python",
   "pygments_lexer": "ipython3",
   "version": "3.11.8"
  }
 },
 "nbformat": 4,
 "nbformat_minor": 5
}
